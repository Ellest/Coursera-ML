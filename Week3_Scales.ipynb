{
 "cells": [
  {
   "cell_type": "markdown",
   "metadata": {},
   "source": [
    "# Scales"
   ]
  },
  {
   "cell_type": "markdown",
   "metadata": {},
   "source": [
    "4 types of scales\n",
    "\n",
    "Ratio \n",
    "    - Units are equally spaced\n",
    "    - math operations valid\n",
    "    - i.e. height & weight\n",
    "\n",
    "Interval Scale\n",
    "    - Units are equally spaced\n",
    "    - No clear absence of value (no true zero)\n",
    "    - math operations invalid\n",
    "    \n",
    "Ordinal\n",
    "    - Order of units is important but not evenly spaced\n",
    "    - i.e. Letter grades (A+, A, A-, ...) or (High, Medium, Low, ...)\n",
    "\n",
    "Nominal\n",
    "    - Category data (no order respect to one another)\n",
    "    - Teams of a sport"
   ]
  },
  {
   "cell_type": "code",
   "execution_count": null,
   "metadata": {
    "collapsed": true
   },
   "outputs": [],
   "source": []
  }
 ],
 "metadata": {
  "anaconda-cloud": {},
  "kernelspec": {
   "display_name": "Python [conda env:py36]",
   "language": "python",
   "name": "conda-env-py36-py"
  },
  "language_info": {
   "codemirror_mode": {
    "name": "ipython",
    "version": 3
   },
   "file_extension": ".py",
   "mimetype": "text/x-python",
   "name": "python",
   "nbconvert_exporter": "python",
   "pygments_lexer": "ipython3",
   "version": "3.6.3"
  }
 },
 "nbformat": 4,
 "nbformat_minor": 2
}
